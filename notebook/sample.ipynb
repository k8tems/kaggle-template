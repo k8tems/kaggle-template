{
 "cells": [
  {
   "cell_type": "code",
   "execution_count": 1,
   "id": "116a23a6-2c3d-4da1-9a03-e8977528b65c",
   "metadata": {},
   "outputs": [
    {
     "name": "stdout",
     "output_type": "stream",
     "text": [
      "/kaggle/working\n"
     ]
    }
   ],
   "source": [
    "%cd .."
   ]
  },
  {
   "cell_type": "code",
   "execution_count": 2,
   "id": "b36652a4-0d76-4d21-a426-f8aee8ba3c7a",
   "metadata": {},
   "outputs": [
    {
     "name": "stdout",
     "output_type": "stream",
     "text": [
      "seed: 7\n",
      "\n"
     ]
    }
   ],
   "source": [
    "import os\n",
    "\n",
    "from hydra import compose, initialize\n",
    "from omegaconf import OmegaConf\n",
    "\n",
    "with initialize(version_base=None, \n",
    "                \n",
    "                config_path=\"../experiments/sample\"):\n",
    "    cfg = compose(\n",
    "        config_name=\"config.yaml\", overrides=[\"debug=True\"], return_hydra_config=True\n",
    "    )\n",
    "    print(OmegaConf.to_yaml(cfg.exp))"
   ]
  },
  {
   "cell_type": "code",
   "execution_count": null,
   "id": "d73010bb-d682-4390-868b-9dad0a32368e",
   "metadata": {},
   "outputs": [],
   "source": []
  }
 ],
 "metadata": {
  "kernelspec": {
   "display_name": "Python 3 (ipykernel) (Local)",
   "language": "python",
   "name": "python3"
  },
  "language_info": {
   "codemirror_mode": {
    "name": "ipython",
    "version": 3
   },
   "file_extension": ".py",
   "mimetype": "text/x-python",
   "name": "python",
   "nbconvert_exporter": "python",
   "pygments_lexer": "ipython3",
   "version": "3.10.13"
  }
 },
 "nbformat": 4,
 "nbformat_minor": 5
}
